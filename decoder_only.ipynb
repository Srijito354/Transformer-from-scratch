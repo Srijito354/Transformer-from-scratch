{
 "cells": [
  {
   "cell_type": "markdown",
   "metadata": {},
   "source": [
    "# This notebook got no new idea from my side. A blunt code-along of whatever I learnt from StatQuest's decoder only tutorial in Pytorch."
   ]
  },
  {
   "cell_type": "code",
   "execution_count": 1,
   "metadata": {},
   "outputs": [],
   "source": [
    "import torch\n",
    "import torch.nn as nn\n",
    "\n",
    "from torch.optim import Adam\n",
    "from torchvision import transforms\n",
    "from torch.utils.data import TensorDataset, DataLoader"
   ]
  },
  {
   "cell_type": "code",
   "execution_count": 2,
   "metadata": {},
   "outputs": [
    {
     "name": "stdout",
     "output_type": "stream",
     "text": [
      "{'I': 0, 'need': 1, 'ya': 2}\n"
     ]
    }
   ],
   "source": [
    "#def embedding_gen(sentence):\n",
    "sentence = \"I need ya ya\"\n",
    "word_idx = {word:i for i, word in enumerate(sorted(set(sentence.split())))}\n",
    "print(word_idx)"
   ]
  },
  {
   "cell_type": "code",
   "execution_count": 3,
   "metadata": {},
   "outputs": [],
   "source": [
    "token_to_id = {'what': 0,\n",
    "                'is': 1,\n",
    "                'statquest': 2,\n",
    "                'awesome': 3,\n",
    "                '<EOS>': 4}\n",
    "\n",
    "id_to_token = dict(map(reversed, token_to_id.items()))"
   ]
  },
  {
   "cell_type": "markdown",
   "metadata": {},
   "source": [
    "# Creating the dataset."
   ]
  },
  {
   "cell_type": "code",
   "execution_count": 4,
   "metadata": {},
   "outputs": [],
   "source": [
    "inputs = torch.tensor([[token_to_id[\"what\"], # First input we wanna process\n",
    "                        token_to_id[\"is\"],\n",
    "                        token_to_id[\"statquest\"],\n",
    "                        token_to_id[\"<EOS>\"],\n",
    "                        token_to_id[\"awesome\"]],\n",
    "                        \n",
    "                        [token_to_id[\"statquest\"], # Second input we wanna process\n",
    "                        token_to_id[\"is\"],\n",
    "                        token_to_id[\"what\"],\n",
    "                        token_to_id[\"<EOS>\"],\n",
    "                        token_to_id[\"awesome\"]]])\n",
    "\n",
    "labels = torch.tensor([[token_to_id[\"is\"],\n",
    "                        token_to_id[\"statquest\"],\n",
    "                        token_to_id[\"<EOS>\"],\n",
    "                        token_to_id[\"awesome\"],\n",
    "                        token_to_id[\"<EOS>\"]],\n",
    "                        \n",
    "                        [token_to_id[\"is\"],\n",
    "                        token_to_id[\"what\"],\n",
    "                        token_to_id[\"<EOS>\"],\n",
    "                        token_to_id[\"awesome\"],\n",
    "                        token_to_id[\"<EOS>\"]]])\n",
    "\n",
    "dataset = TensorDataset(inputs, labels)\n",
    "dataloader = DataLoader(dataset)"
   ]
  },
  {
   "cell_type": "code",
   "execution_count": 5,
   "metadata": {},
   "outputs": [],
   "source": [
    "def embedding_gen(word_idx):\n",
    "    global embedding_dim, vocab_size\n",
    "    embedding_dim = 16\n",
    "    vocab_size = len(word_idx)\n",
    "    embeddings = nn.Embedding(num_embeddings=vocab_size, embedding_dim=embedding_dim)\n",
    "    global e_l\n",
    "    e_l = []\n",
    "    for i in range(vocab_size):\n",
    "        e_l.append(i)\n",
    "    e = torch.LongTensor(e_l)\n",
    "    e = embeddings(e)\n",
    "    return e"
   ]
  },
  {
   "cell_type": "code",
   "execution_count": 6,
   "metadata": {},
   "outputs": [],
   "source": [
    "e = embedding_gen(token_to_id)"
   ]
  },
  {
   "cell_type": "code",
   "execution_count": 7,
   "metadata": {},
   "outputs": [
    {
     "data": {
      "text/plain": [
       "torch.Size([5, 16])"
      ]
     },
     "execution_count": 7,
     "metadata": {},
     "output_type": "execute_result"
    }
   ],
   "source": [
    "e.shape"
   ]
  },
  {
   "cell_type": "code",
   "execution_count": 8,
   "metadata": {},
   "outputs": [],
   "source": [
    "def positional_encodings(vocab_size, embedding_dim):\n",
    "    pe = torch.zeros(vocab_size, embedding_dim)\n",
    "    for pos in range(vocab_size):\n",
    "        for i in range(0, 4, 2):\n",
    "            em1 = torch.sin(torch.tensor(pos/(10000**((2*i)/embedding_dim))))\n",
    "            em2 = torch.cos(torch.tensor(pos/(10000**((2*(i+1))/embedding_dim))))\n",
    "\n",
    "            pe[pos][i] = em1\n",
    "            pe[pos][i] = em2\n",
    "    return pe"
   ]
  },
  {
   "cell_type": "code",
   "execution_count": 9,
   "metadata": {},
   "outputs": [],
   "source": [
    "pe = positional_encodings(len(token_to_id), 16)"
   ]
  },
  {
   "cell_type": "code",
   "execution_count": 10,
   "metadata": {},
   "outputs": [
    {
     "data": {
      "text/plain": [
       "torch.Size([5, 16])"
      ]
     },
     "execution_count": 10,
     "metadata": {},
     "output_type": "execute_result"
    }
   ],
   "source": [
    "pe.shape"
   ]
  },
  {
   "cell_type": "code",
   "execution_count": 11,
   "metadata": {},
   "outputs": [],
   "source": [
    "finna = e+pe\n",
    "Q, K, V = finna, finna, finna"
   ]
  },
  {
   "cell_type": "code",
   "execution_count": 12,
   "metadata": {},
   "outputs": [
    {
     "ename": "SyntaxError",
     "evalue": "incomplete input (4208594599.py, line 12)",
     "output_type": "error",
     "traceback": [
      "\u001b[0;36m  Cell \u001b[0;32mIn[12], line 12\u001b[0;36m\u001b[0m\n\u001b[0;31m    def forward():\u001b[0m\n\u001b[0m                  ^\u001b[0m\n\u001b[0;31mSyntaxError\u001b[0m\u001b[0;31m:\u001b[0m incomplete input\n"
     ]
    }
   ],
   "source": [
    "class Attention(nn.Module):\n",
    "    def __init__(self, d_model):\n",
    "        super().__init__()\n",
    "\n",
    "        self.w_q = nn.Linear(in_features=d_model, out_features=d_model)\n",
    "        self.w_k = nn.Linear(in_features=d_model, out_features=d_model)\n",
    "        self.w_v = nn.Linear(in_features=d_model, out_features=d_model)\n",
    "\n",
    "        self.row_dim = 0\n",
    "        self.col_dim = 1\n",
    "\n",
    "    def forward():"
   ]
  }
 ],
 "metadata": {
  "kernelspec": {
   "display_name": "Python 3",
   "language": "python",
   "name": "python3"
  },
  "language_info": {
   "codemirror_mode": {
    "name": "ipython",
    "version": 3
   },
   "file_extension": ".py",
   "mimetype": "text/x-python",
   "name": "python",
   "nbconvert_exporter": "python",
   "pygments_lexer": "ipython3",
   "version": "3.10.12"
  }
 },
 "nbformat": 4,
 "nbformat_minor": 2
}
