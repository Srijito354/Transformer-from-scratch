{
 "cells": [
  {
   "cell_type": "code",
   "execution_count": 1,
   "metadata": {},
   "outputs": [],
   "source": [
    "import math\n",
    "import torch\n",
    "import numpy as np\n",
    "import pandas as pd\n",
    "import torch.nn as nn"
   ]
  },
  {
   "cell_type": "code",
   "execution_count": 2,
   "metadata": {},
   "outputs": [
    {
     "data": {
      "text/plain": [
       "'\\nf = open()\\nfor sentence in f.readlines():\\n    embedding_gen(sentence)\\n'"
      ]
     },
     "execution_count": 2,
     "metadata": {},
     "output_type": "execute_result"
    }
   ],
   "source": [
    "'''\n",
    "f = open()\n",
    "for sentence in f.readlines():\n",
    "    embedding_gen(sentence)\n",
    "'''"
   ]
  },
  {
   "cell_type": "code",
   "execution_count": 3,
   "metadata": {},
   "outputs": [],
   "source": [
    "def embedding_gen(sentence):\n",
    "    global words\n",
    "    words = sentence.lower().split()\n",
    "    global word_idx\n",
    "    word_idx = {word: idx for idx, word in enumerate(words)}\n",
    "    global embedding_dim\n",
    "    embedding_dim = 16\n",
    "    global vocab_size\n",
    "    global idx_only\n",
    "    idx_only = [i for i in range(len(word_idx))]\n",
    "    vocab_size = len(word_idx)\n",
    "    embeddings = nn.Embedding(num_embeddings=vocab_size, embedding_dim=embedding_dim)\n",
    "    input_tensor = torch.LongTensor(idx_only)\n",
    "    input_embeddings = embeddings(input_tensor)\n",
    "    return input_embeddings"
   ]
  },
  {
   "cell_type": "code",
   "execution_count": 4,
   "metadata": {},
   "outputs": [],
   "source": [
    "def positional_encodings(sequence_length, embedding_size):\n",
    "    pe = torch.zeros(sequence_length, embedding_size)\n",
    "    pos_encode = 0\n",
    "    for pos in range(len(word_idx)):\n",
    "        em_dim = embedding_dim\n",
    "        for i in range(em_dim):\n",
    "            if i%2 == 0:\n",
    "                emma = torch.sin(torch.tensor(pos/(10000**((2*i)/embedding_dim))))\n",
    "            else:\n",
    "                emma = torch.cos(torch.tensor(pos/(10000**(((2*i)+1)/embedding_dim))))\n",
    "            pe[pos][i] = emma\n",
    "            #pe[pos][i+1] = emma2\n",
    "    return pe"
   ]
  },
  {
   "cell_type": "code",
   "execution_count": 5,
   "metadata": {},
   "outputs": [],
   "source": [
    "softmax = nn.Softmax(-1)"
   ]
  },
  {
   "cell_type": "code",
   "execution_count": 7,
   "metadata": {},
   "outputs": [
    {
     "ename": "RuntimeError",
     "evalue": "mat1 and mat2 shapes cannot be multiplied (17x17 and 6x16)",
     "output_type": "error",
     "traceback": [
      "\u001b[0;31m---------------------------------------------------------------------------\u001b[0m",
      "\u001b[0;31mRuntimeError\u001b[0m                              Traceback (most recent call last)",
      "Cell \u001b[0;32mIn[7], line 81\u001b[0m\n\u001b[1;32m     79\u001b[0m         sys\u001b[38;5;241m.\u001b[39mexit()\n\u001b[1;32m     80\u001b[0m     final_output(new_sentence, count)\n\u001b[0;32m---> 81\u001b[0m \u001b[43mfinal_output\u001b[49m\u001b[43m(\u001b[49m\u001b[38;5;124;43m\"\u001b[39;49m\u001b[38;5;124;43mIf you miss the train I am on you will know I am gone You will hear a whistle blow a hundred miles\u001b[39;49m\u001b[38;5;124;43m\"\u001b[39;49m\u001b[43m,\u001b[49m\u001b[43m \u001b[49m\u001b[38;5;241;43m0\u001b[39;49m\u001b[43m)\u001b[49m\n",
      "Cell \u001b[0;32mIn[7], line 36\u001b[0m, in \u001b[0;36mfinal_output\u001b[0;34m(sentence1, count)\u001b[0m\n\u001b[1;32m     33\u001b[0m latent_upscale \u001b[38;5;241m=\u001b[39m nn\u001b[38;5;241m.\u001b[39mLinear(in_features \u001b[38;5;241m=\u001b[39m \u001b[38;5;241m6\u001b[39m, out_features \u001b[38;5;241m=\u001b[39m \u001b[38;5;241m16\u001b[39m)\n\u001b[1;32m     34\u001b[0m latent_upscale \u001b[38;5;241m=\u001b[39m latent_upscale\u001b[38;5;241m.\u001b[39mcuda()\n\u001b[0;32m---> 36\u001b[0m q_k \u001b[38;5;241m=\u001b[39m \u001b[43mlatent_upscale\u001b[49m\u001b[43m(\u001b[49m\u001b[43mq_k\u001b[49m\u001b[43m)\u001b[49m\n\u001b[1;32m     38\u001b[0m q_k \u001b[38;5;241m=\u001b[39m softmax(q_k)\n\u001b[1;32m     40\u001b[0m q_k_v \u001b[38;5;241m=\u001b[39m torch\u001b[38;5;241m.\u001b[39mmatmul(q_k, V)\u001b[38;5;241m.\u001b[39mcuda()\n",
      "File \u001b[0;32m~/.local/lib/python3.10/site-packages/torch/nn/modules/module.py:1736\u001b[0m, in \u001b[0;36mModule._wrapped_call_impl\u001b[0;34m(self, *args, **kwargs)\u001b[0m\n\u001b[1;32m   1734\u001b[0m     \u001b[38;5;28;01mreturn\u001b[39;00m \u001b[38;5;28mself\u001b[39m\u001b[38;5;241m.\u001b[39m_compiled_call_impl(\u001b[38;5;241m*\u001b[39margs, \u001b[38;5;241m*\u001b[39m\u001b[38;5;241m*\u001b[39mkwargs)  \u001b[38;5;66;03m# type: ignore[misc]\u001b[39;00m\n\u001b[1;32m   1735\u001b[0m \u001b[38;5;28;01melse\u001b[39;00m:\n\u001b[0;32m-> 1736\u001b[0m     \u001b[38;5;28;01mreturn\u001b[39;00m \u001b[38;5;28;43mself\u001b[39;49m\u001b[38;5;241;43m.\u001b[39;49m\u001b[43m_call_impl\u001b[49m\u001b[43m(\u001b[49m\u001b[38;5;241;43m*\u001b[39;49m\u001b[43margs\u001b[49m\u001b[43m,\u001b[49m\u001b[43m \u001b[49m\u001b[38;5;241;43m*\u001b[39;49m\u001b[38;5;241;43m*\u001b[39;49m\u001b[43mkwargs\u001b[49m\u001b[43m)\u001b[49m\n",
      "File \u001b[0;32m~/.local/lib/python3.10/site-packages/torch/nn/modules/module.py:1747\u001b[0m, in \u001b[0;36mModule._call_impl\u001b[0;34m(self, *args, **kwargs)\u001b[0m\n\u001b[1;32m   1742\u001b[0m \u001b[38;5;66;03m# If we don't have any hooks, we want to skip the rest of the logic in\u001b[39;00m\n\u001b[1;32m   1743\u001b[0m \u001b[38;5;66;03m# this function, and just call forward.\u001b[39;00m\n\u001b[1;32m   1744\u001b[0m \u001b[38;5;28;01mif\u001b[39;00m \u001b[38;5;129;01mnot\u001b[39;00m (\u001b[38;5;28mself\u001b[39m\u001b[38;5;241m.\u001b[39m_backward_hooks \u001b[38;5;129;01mor\u001b[39;00m \u001b[38;5;28mself\u001b[39m\u001b[38;5;241m.\u001b[39m_backward_pre_hooks \u001b[38;5;129;01mor\u001b[39;00m \u001b[38;5;28mself\u001b[39m\u001b[38;5;241m.\u001b[39m_forward_hooks \u001b[38;5;129;01mor\u001b[39;00m \u001b[38;5;28mself\u001b[39m\u001b[38;5;241m.\u001b[39m_forward_pre_hooks\n\u001b[1;32m   1745\u001b[0m         \u001b[38;5;129;01mor\u001b[39;00m _global_backward_pre_hooks \u001b[38;5;129;01mor\u001b[39;00m _global_backward_hooks\n\u001b[1;32m   1746\u001b[0m         \u001b[38;5;129;01mor\u001b[39;00m _global_forward_hooks \u001b[38;5;129;01mor\u001b[39;00m _global_forward_pre_hooks):\n\u001b[0;32m-> 1747\u001b[0m     \u001b[38;5;28;01mreturn\u001b[39;00m \u001b[43mforward_call\u001b[49m\u001b[43m(\u001b[49m\u001b[38;5;241;43m*\u001b[39;49m\u001b[43margs\u001b[49m\u001b[43m,\u001b[49m\u001b[43m \u001b[49m\u001b[38;5;241;43m*\u001b[39;49m\u001b[38;5;241;43m*\u001b[39;49m\u001b[43mkwargs\u001b[49m\u001b[43m)\u001b[49m\n\u001b[1;32m   1749\u001b[0m result \u001b[38;5;241m=\u001b[39m \u001b[38;5;28;01mNone\u001b[39;00m\n\u001b[1;32m   1750\u001b[0m called_always_called_hooks \u001b[38;5;241m=\u001b[39m \u001b[38;5;28mset\u001b[39m()\n",
      "File \u001b[0;32m~/.local/lib/python3.10/site-packages/torch/nn/modules/linear.py:125\u001b[0m, in \u001b[0;36mLinear.forward\u001b[0;34m(self, input)\u001b[0m\n\u001b[1;32m    124\u001b[0m \u001b[38;5;28;01mdef\u001b[39;00m \u001b[38;5;21mforward\u001b[39m(\u001b[38;5;28mself\u001b[39m, \u001b[38;5;28minput\u001b[39m: Tensor) \u001b[38;5;241m-\u001b[39m\u001b[38;5;241m>\u001b[39m Tensor:\n\u001b[0;32m--> 125\u001b[0m     \u001b[38;5;28;01mreturn\u001b[39;00m \u001b[43mF\u001b[49m\u001b[38;5;241;43m.\u001b[39;49m\u001b[43mlinear\u001b[49m\u001b[43m(\u001b[49m\u001b[38;5;28;43minput\u001b[39;49m\u001b[43m,\u001b[49m\u001b[43m \u001b[49m\u001b[38;5;28;43mself\u001b[39;49m\u001b[38;5;241;43m.\u001b[39;49m\u001b[43mweight\u001b[49m\u001b[43m,\u001b[49m\u001b[43m \u001b[49m\u001b[38;5;28;43mself\u001b[39;49m\u001b[38;5;241;43m.\u001b[39;49m\u001b[43mbias\u001b[49m\u001b[43m)\u001b[49m\n",
      "\u001b[0;31mRuntimeError\u001b[0m: mat1 and mat2 shapes cannot be multiplied (17x17 and 6x16)"
     ]
    }
   ],
   "source": [
    "import sys\n",
    "count = 0\n",
    "def final_output(sentence1, count):\n",
    "    count=count+1\n",
    "    input_embeddings = embedding_gen(sentence1)\n",
    "    pe = positional_encodings(vocab_size, embedding_dim)\n",
    "    finna = input_embeddings+pe\n",
    "    finna = finna.cuda()\n",
    "    Q, K, V = finna, finna, finna\n",
    "\n",
    "    global length\n",
    "    length = len(word_idx)\n",
    "\n",
    "    Q = Q.cuda()\n",
    "    K = K.cuda()\n",
    "    V = V.cuda()\n",
    "    \n",
    "    w_q = nn.Linear(in_features=16, out_features=6)\n",
    "    w_k = nn.Linear(in_features=16, out_features=6)\n",
    "    w_v = nn.Linear(in_features=16, out_features=6)\n",
    "\n",
    "    w_q = w_q.cuda()\n",
    "    w_k = w_k.cuda()\n",
    "    w_v = w_v.cuda()\n",
    "\n",
    "    Q = w_q(Q)\n",
    "    K = w_k(K)\n",
    "    V = w_k(V)\n",
    "\n",
    "    q_k = torch.matmul(Q, K.transpose(-2, -1)).cuda()\n",
    "    q_k = q_k/math.sqrt(embedding_dim)\n",
    "\n",
    "    latent_upscale = nn.Linear(in_features = 6, out_features = 16)\n",
    "    latent_upscale = latent_upscale.cuda()\n",
    "\n",
    "    q_k = latent_upscale(q_k)\n",
    "\n",
    "    q_k = softmax(q_k)\n",
    "\n",
    "    q_k_v = torch.matmul(q_k, V).cuda()\n",
    "\n",
    "    add_norm_layer1 = q_k_v+finna\n",
    "    layer_norm = nn.LayerNorm(embedding_dim)\n",
    "\n",
    "    layer_norm = layer_norm.cuda()\n",
    "\n",
    "    add_norm_layer1 = layer_norm(add_norm_layer1)\n",
    "    add_norm_layer1 = add_norm_layer1.cuda()\n",
    "\n",
    "    feed_fwd = nn.Sequential(\n",
    "    nn.Linear(16, 16),\n",
    "    nn.Linear(16, 16),\n",
    "    nn.Linear(16, 16)\n",
    "    )\n",
    "\n",
    "    feed_fwd = feed_fwd.cuda()\n",
    "\n",
    "    linear_out = feed_fwd(add_norm_layer1)\n",
    "    linear_out = linear_out.cuda()\n",
    "\n",
    "    out = layer_norm(add_norm_layer1+linear_out)\n",
    "\n",
    "    feed_fwd2 = nn.Sequential(\n",
    "    nn.Linear(16, 16)\n",
    "    )\n",
    "\n",
    "    feed_fwd2 = feed_fwd2.cuda()\n",
    "\n",
    "    fin_out = feed_fwd2(out)\n",
    "\n",
    "    global probabilities\n",
    "\n",
    "    probabilities = torch.softmax(fin_out[-1], dim=-1)\n",
    "\n",
    "    next_word = words[probabilities.argmax()]\n",
    "    print(next_word)\n",
    "    new_sentence = sentence1+\" \"+next_word\n",
    "    if count == 5:\n",
    "        sys.exit()\n",
    "    final_output(new_sentence, count)\n",
    "final_output(\"If you miss the train I am on you will know I am gone You will hear a whistle blow a hundred miles\", 0)"
   ]
  }
 ],
 "metadata": {
  "kernelspec": {
   "display_name": "Python 3",
   "language": "python",
   "name": "python3"
  },
  "language_info": {
   "codemirror_mode": {
    "name": "ipython",
    "version": 3
   },
   "file_extension": ".py",
   "mimetype": "text/x-python",
   "name": "python",
   "nbconvert_exporter": "python",
   "pygments_lexer": "ipython3",
   "version": "3.10.12"
  }
 },
 "nbformat": 4,
 "nbformat_minor": 2
}
