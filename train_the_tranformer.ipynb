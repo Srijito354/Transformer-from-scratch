{
 "cells": [
  {
   "cell_type": "code",
   "execution_count": 28,
   "metadata": {},
   "outputs": [],
   "source": [
    "import math\n",
    "import torch\n",
    "import numpy as np\n",
    "import pandas as pd\n",
    "import torch.nn as nn"
   ]
  },
  {
   "cell_type": "code",
   "execution_count": 29,
   "metadata": {},
   "outputs": [
    {
     "data": {
      "text/plain": [
       "'\\nf = open()\\nfor sentence in f.readlines():\\n    embedding_gen(sentence)\\n'"
      ]
     },
     "execution_count": 29,
     "metadata": {},
     "output_type": "execute_result"
    }
   ],
   "source": [
    "'''\n",
    "f = open()\n",
    "for sentence in f.readlines():\n",
    "    embedding_gen(sentence)\n",
    "'''"
   ]
  },
  {
   "cell_type": "code",
   "execution_count": 30,
   "metadata": {},
   "outputs": [],
   "source": [
    "def embedding_gen(sentence):\n",
    "    global words\n",
    "    words = sentence.lower().split()\n",
    "    global word_idx\n",
    "    word_idx = {word: idx for idx, word in enumerate(words)}\n",
    "    global embedding_dim\n",
    "    embedding_dim = 16\n",
    "    global vocab_size\n",
    "    global idx_only\n",
    "    idx_only = [i for i in range(len(word_idx))]\n",
    "    vocab_size = len(word_idx)\n",
    "    embeddings = nn.Embedding(num_embeddings=vocab_size, embedding_dim=embedding_dim)\n",
    "    input_tensor = torch.LongTensor(idx_only)\n",
    "    input_embeddings = embeddings(input_tensor)\n",
    "    return input_embeddings"
   ]
  },
  {
   "cell_type": "code",
   "execution_count": 31,
   "metadata": {},
   "outputs": [],
   "source": [
    "def positional_encodings(sequence_length, embedding_size):\n",
    "    pe = torch.zeros(sequence_length, embedding_size)\n",
    "    pos_encode = 0\n",
    "    for pos in range(len(word_idx)):\n",
    "        em_dim = embedding_dim\n",
    "        for i in range(em_dim):\n",
    "            if i%2 == 0:\n",
    "                emma = torch.sin(torch.tensor(pos/(10000**((2*i)/embedding_dim))))\n",
    "            else:\n",
    "                emma = torch.cos(torch.tensor(pos/(10000**(((2*i)+1)/embedding_dim))))\n",
    "            pe[pos][i] = emma\n",
    "            #pe[pos][i+1] = emma2\n",
    "    return pe"
   ]
  },
  {
   "cell_type": "code",
   "execution_count": 32,
   "metadata": {},
   "outputs": [],
   "source": [
    "softmax = nn.Softmax(-1)"
   ]
  },
  {
   "cell_type": "code",
   "execution_count": 33,
   "metadata": {},
   "outputs": [
    {
     "ename": "NameError",
     "evalue": "name 'emma' is not defined",
     "output_type": "error",
     "traceback": [
      "\u001b[0;31m---------------------------------------------------------------------------\u001b[0m",
      "\u001b[0;31mNameError\u001b[0m                                 Traceback (most recent call last)",
      "Cell \u001b[0;32mIn[33], line 75\u001b[0m\n\u001b[1;32m     73\u001b[0m         sys\u001b[38;5;241m.\u001b[39mexit()\n\u001b[1;32m     74\u001b[0m     final_output(new_sentence, count)\n\u001b[0;32m---> 75\u001b[0m \u001b[43mfinal_output\u001b[49m\u001b[43m(\u001b[49m\u001b[38;5;124;43m\"\u001b[39;49m\u001b[38;5;124;43mIf you miss the train I am on you will know I am gone You will hear a whistle blow a hundred miles\u001b[39;49m\u001b[38;5;124;43m\"\u001b[39;49m\u001b[43m,\u001b[49m\u001b[43m \u001b[49m\u001b[38;5;241;43m0\u001b[39;49m\u001b[43m)\u001b[49m\n",
      "Cell \u001b[0;32mIn[33], line 6\u001b[0m, in \u001b[0;36mfinal_output\u001b[0;34m(sentence1, count)\u001b[0m\n\u001b[1;32m      4\u001b[0m count\u001b[38;5;241m=\u001b[39mcount\u001b[38;5;241m+\u001b[39m\u001b[38;5;241m1\u001b[39m\n\u001b[1;32m      5\u001b[0m input_embeddings \u001b[38;5;241m=\u001b[39m embedding_gen(sentence1)\n\u001b[0;32m----> 6\u001b[0m pe \u001b[38;5;241m=\u001b[39m \u001b[43mpositional_encodings\u001b[49m\u001b[43m(\u001b[49m\u001b[43mvocab_size\u001b[49m\u001b[43m,\u001b[49m\u001b[43m \u001b[49m\u001b[43membedding_dim\u001b[49m\u001b[43m)\u001b[49m\n\u001b[1;32m      7\u001b[0m finna \u001b[38;5;241m=\u001b[39m input_embeddings\u001b[38;5;241m+\u001b[39mpe\n\u001b[1;32m      8\u001b[0m finna \u001b[38;5;241m=\u001b[39m finna\u001b[38;5;241m.\u001b[39mcuda()\n",
      "Cell \u001b[0;32mIn[31], line 11\u001b[0m, in \u001b[0;36mpositional_encodings\u001b[0;34m(sequence_length, embedding_size)\u001b[0m\n\u001b[1;32m      9\u001b[0m         \u001b[38;5;28;01melse\u001b[39;00m:\n\u001b[1;32m     10\u001b[0m             emma2 \u001b[38;5;241m=\u001b[39m torch\u001b[38;5;241m.\u001b[39mcos(torch\u001b[38;5;241m.\u001b[39mtensor(pos\u001b[38;5;241m/\u001b[39m(\u001b[38;5;241m10000\u001b[39m\u001b[38;5;241m*\u001b[39m\u001b[38;5;241m*\u001b[39m(((\u001b[38;5;241m2\u001b[39m\u001b[38;5;241m*\u001b[39mi)\u001b[38;5;241m+\u001b[39m\u001b[38;5;241m1\u001b[39m)\u001b[38;5;241m/\u001b[39membedding_dim))))\n\u001b[0;32m---> 11\u001b[0m         pe[pos][i] \u001b[38;5;241m=\u001b[39m \u001b[43memma\u001b[49m\n\u001b[1;32m     12\u001b[0m         \u001b[38;5;66;03m#pe[pos][i+1] = emma2\u001b[39;00m\n\u001b[1;32m     13\u001b[0m \u001b[38;5;28;01mreturn\u001b[39;00m pe\n",
      "\u001b[0;31mNameError\u001b[0m: name 'emma' is not defined"
     ]
    }
   ],
   "source": [
    "import sys\n",
    "count = 0\n",
    "def final_output(sentence1, count):\n",
    "    count=count+1\n",
    "    input_embeddings = embedding_gen(sentence1)\n",
    "    pe = positional_encodings(vocab_size, embedding_dim)\n",
    "    finna = input_embeddings+pe\n",
    "    finna = finna.cuda()\n",
    "    Q, K, V = finna, finna, finna\n",
    "\n",
    "    global length\n",
    "    length = len(word_idx)\n",
    "\n",
    "    Q = Q.cuda()\n",
    "    K = K.cuda()\n",
    "    V = V.cuda()\n",
    "    \n",
    "    w_q = nn.Linear(in_features=16, out_features=16)\n",
    "    w_k = nn.Linear(in_features=16, out_features=16)\n",
    "    w_v = nn.Linear(in_features=16, out_features=16)\n",
    "\n",
    "    w_q = w_q.cuda()\n",
    "    w_k = w_k.cuda()\n",
    "    w_v = w_v.cuda()\n",
    "\n",
    "    Q = w_q(Q)\n",
    "    K = w_k(K)\n",
    "    V = w_k(V)\n",
    "\n",
    "    q_k = torch.matmul(Q, K.transpose(-2, -1)).cuda()\n",
    "    q_k = q_k/math.sqrt(embedding_dim)\n",
    "    q_k = softmax(q_k)\n",
    "\n",
    "    q_k_v = torch.matmul(q_k, V).cuda()\n",
    "\n",
    "    add_norm_layer1 = q_k_v+finna\n",
    "    layer_norm = nn.LayerNorm(embedding_dim)\n",
    "\n",
    "    layer_norm = layer_norm.cuda()\n",
    "\n",
    "    add_norm_layer1 = layer_norm(add_norm_layer1)\n",
    "    add_norm_layer1 = add_norm_layer1.cuda()\n",
    "\n",
    "    feed_fwd = nn.Sequential(\n",
    "    nn.Linear(16, 16),\n",
    "    nn.Linear(16, 16),\n",
    "    nn.Linear(16, 16)\n",
    "    )\n",
    "\n",
    "    feed_fwd = feed_fwd.cuda()\n",
    "\n",
    "    linear_out = feed_fwd(add_norm_layer1)\n",
    "    linear_out = linear_out.cuda()\n",
    "\n",
    "    out = layer_norm(add_norm_layer1+linear_out)\n",
    "\n",
    "    feed_fwd2 = nn.Sequential(\n",
    "    nn.Linear(16, 16)\n",
    "    )\n",
    "\n",
    "    feed_fwd2 = feed_fwd2.cuda()\n",
    "\n",
    "    fin_out = feed_fwd2(out)\n",
    "\n",
    "    global probabilities\n",
    "\n",
    "    probabilities = torch.softmax(fin_out[-1], dim=-1)\n",
    "\n",
    "    next_word = words[probabilities.argmax()]\n",
    "    print(next_word)\n",
    "    new_sentence = sentence1+\" \"+next_word\n",
    "    if count == 5:\n",
    "        sys.exit()\n",
    "    final_output(new_sentence, count)\n",
    "final_output(\"If you miss the train I am on you will know I am gone You will hear a whistle blow a hundred miles\", 0)"
   ]
  }
 ],
 "metadata": {
  "kernelspec": {
   "display_name": "Python 3",
   "language": "python",
   "name": "python3"
  },
  "language_info": {
   "codemirror_mode": {
    "name": "ipython",
    "version": 3
   },
   "file_extension": ".py",
   "mimetype": "text/x-python",
   "name": "python",
   "nbconvert_exporter": "python",
   "pygments_lexer": "ipython3",
   "version": "3.10.12"
  }
 },
 "nbformat": 4,
 "nbformat_minor": 2
}
