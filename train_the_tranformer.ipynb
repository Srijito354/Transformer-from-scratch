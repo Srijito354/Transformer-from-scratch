{
 "cells": [
  {
   "cell_type": "code",
   "execution_count": 1,
   "metadata": {},
   "outputs": [],
   "source": [
    "import math\n",
    "import torch\n",
    "import numpy as np\n",
    "import pandas as pd\n",
    "import torch.nn as nn"
   ]
  },
  {
   "cell_type": "code",
   "execution_count": 2,
   "metadata": {},
   "outputs": [
    {
     "data": {
      "text/plain": [
       "'\\nf = open()\\nfor sentence in f.readlines():\\n    embedding_gen(sentence)\\n'"
      ]
     },
     "execution_count": 2,
     "metadata": {},
     "output_type": "execute_result"
    }
   ],
   "source": [
    "'''\n",
    "f = open()\n",
    "for sentence in f.readlines():\n",
    "    embedding_gen(sentence)\n",
    "'''"
   ]
  },
  {
   "cell_type": "code",
   "execution_count": 3,
   "metadata": {},
   "outputs": [],
   "source": [
    "def embedding_gen(sentence):\n",
    "    global words\n",
    "    words = sentence.lower().split()\n",
    "    global word_idx\n",
    "    word_idx = {word: idx for idx, word in enumerate(words)}\n",
    "    global embedding_dim\n",
    "    embedding_dim = 16\n",
    "    global vocab_size\n",
    "    global idx_only\n",
    "    idx_only = [i for i in range(len(word_idx))]\n",
    "    vocab_size = len(word_idx)\n",
    "    embeddings = nn.Embedding(num_embeddings=vocab_size, embedding_dim=embedding_dim)\n",
    "    input_tensor = torch.LongTensor(idx_only)\n",
    "    input_embeddings = embeddings(input_tensor)\n",
    "    return input_embeddings"
   ]
  },
  {
   "cell_type": "code",
   "execution_count": 4,
   "metadata": {},
   "outputs": [],
   "source": [
    "def positional_encodings(sequence_length, embedding_size):\n",
    "    pe = torch.zeros(sequence_length, embedding_size)\n",
    "    pos_encode = 0\n",
    "    for pos in range(len(word_idx)):\n",
    "        em_dim = embedding_dim\n",
    "        for i in range(em_dim):\n",
    "            if i%2 == 0:\n",
    "                emma = torch.sin(torch.tensor(pos/(10000**((2*i)/embedding_dim))))\n",
    "            else:\n",
    "                emma = torch.cos(torch.tensor(pos/(10000**(((2*i)+1)/embedding_dim))))\n",
    "            pe[pos][i] = emma\n",
    "            #pe[pos][i+1] = emma2\n",
    "    return pe"
   ]
  },
  {
   "cell_type": "code",
   "execution_count": 5,
   "metadata": {},
   "outputs": [],
   "source": [
    "softmax = nn.Softmax(-1)"
   ]
  },
  {
   "cell_type": "code",
   "execution_count": 6,
   "metadata": {},
   "outputs": [
    {
     "name": "stdout",
     "output_type": "stream",
     "text": [
      "train\n",
      "am\n",
      "will\n",
      "know\n",
      "am\n"
     ]
    },
    {
     "ename": "SystemExit",
     "evalue": "",
     "output_type": "error",
     "traceback": [
      "An exception has occurred, use %tb to see the full traceback.\n",
      "\u001b[0;31mSystemExit\u001b[0m\n"
     ]
    },
    {
     "name": "stderr",
     "output_type": "stream",
     "text": [
      "/home/lcamk2/.local/lib/python3.10/site-packages/IPython/core/interactiveshell.py:3585: UserWarning: To exit: use 'exit', 'quit', or Ctrl-D.\n",
      "  warn(\"To exit: use 'exit', 'quit', or Ctrl-D.\", stacklevel=1)\n"
     ]
    }
   ],
   "source": [
    "import sys\n",
    "count = 0\n",
    "def final_output(sentence1, count):\n",
    "    count=count+1\n",
    "    input_embeddings = embedding_gen(sentence1)\n",
    "    pe = positional_encodings(vocab_size, embedding_dim)\n",
    "    finna = input_embeddings+pe\n",
    "    finna = finna.cuda()\n",
    "    Q, K, V = finna, finna, finna\n",
    "\n",
    "    global length\n",
    "    length = len(word_idx)\n",
    "\n",
    "    Q = Q.cuda()\n",
    "    K = K.cuda()\n",
    "    V = V.cuda()\n",
    "    \n",
    "    w_q = nn.Linear(in_features=16, out_features=16)\n",
    "    w_k = nn.Linear(in_features=16, out_features=16)\n",
    "    w_v = nn.Linear(in_features=16, out_features=16)\n",
    "\n",
    "    w_q = w_q.cuda()\n",
    "    w_k = w_k.cuda()\n",
    "    w_v = w_v.cuda()\n",
    "\n",
    "    Q = w_q(Q)\n",
    "    K = w_k(K)\n",
    "    V = w_k(V)\n",
    "\n",
    "    q_k = torch.matmul(Q, K.transpose(-2, -1)).cuda()\n",
    "    q_k = q_k/math.sqrt(embedding_dim)\n",
    "    q_k = softmax(q_k)\n",
    "\n",
    "    q_k_v = torch.matmul(q_k, V).cuda()\n",
    "\n",
    "    add_norm_layer1 = q_k_v+finna\n",
    "    layer_norm = nn.LayerNorm(embedding_dim)\n",
    "\n",
    "    layer_norm = layer_norm.cuda()\n",
    "\n",
    "    add_norm_layer1 = layer_norm(add_norm_layer1)\n",
    "    add_norm_layer1 = add_norm_layer1.cuda()\n",
    "\n",
    "    feed_fwd = nn.Sequential(\n",
    "    nn.Linear(16, 16),\n",
    "    nn.Linear(16, 16),\n",
    "    nn.Linear(16, 16)\n",
    "    )\n",
    "\n",
    "    feed_fwd = feed_fwd.cuda()\n",
    "\n",
    "    linear_out = feed_fwd(add_norm_layer1)\n",
    "    linear_out = linear_out.cuda()\n",
    "\n",
    "    out = layer_norm(add_norm_layer1+linear_out)\n",
    "\n",
    "    feed_fwd2 = nn.Sequential(\n",
    "    nn.Linear(16, 16)\n",
    "    )\n",
    "\n",
    "    feed_fwd2 = feed_fwd2.cuda()\n",
    "\n",
    "    fin_out = feed_fwd2(out)\n",
    "\n",
    "    global probabilities\n",
    "\n",
    "    probabilities = torch.softmax(fin_out[-1], dim=-1)\n",
    "\n",
    "    next_word = words[probabilities.argmax()]\n",
    "    print(next_word)\n",
    "    new_sentence = sentence1+\" \"+next_word\n",
    "    if count == 5:\n",
    "        sys.exit()\n",
    "    final_output(new_sentence, count)\n",
    "final_output(\"If you miss the train I am on you will know I am gone You will hear a whistle blow a hundred miles\", 0)"
   ]
  }
 ],
 "metadata": {
  "kernelspec": {
   "display_name": "Python 3",
   "language": "python",
   "name": "python3"
  },
  "language_info": {
   "codemirror_mode": {
    "name": "ipython",
    "version": 3
   },
   "file_extension": ".py",
   "mimetype": "text/x-python",
   "name": "python",
   "nbconvert_exporter": "python",
   "pygments_lexer": "ipython3",
   "version": "3.10.12"
  }
 },
 "nbformat": 4,
 "nbformat_minor": 2
}
