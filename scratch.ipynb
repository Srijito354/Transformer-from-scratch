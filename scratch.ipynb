{
 "cells": [
  {
   "cell_type": "code",
   "execution_count": 1,
   "metadata": {},
   "outputs": [],
   "source": [
    "import torch\n",
    "import torch.nn as nn\n",
    "import numpy as np\n",
    "import pandas as pd\n",
    "from torchvision.datasets import ImageFolder"
   ]
  },
  {
   "cell_type": "code",
   "execution_count": 5,
   "metadata": {},
   "outputs": [
    {
     "data": {
      "image/png": "[encoded data removed]",
      "text/plain": [
       "<Figure size 500x500 with 1 Axes>"
      ]
     },
     "metadata": {},
     "output_type": "display_data"
    }
   ],
   "source": [
    "import matplotlib.pyplot as plt\n",
    "\n",
    "item1_embedding = np.array([1, 4, -3, 4])\n",
    "item2_embedding = np.array([2, -3, -2, 4])\n",
    "\n",
    "def plot_embeddings(emb1, emb2):\n",
    "    plt.figure(figsize=(5, 5))\n",
    "    plt.bar(np.arange(len(emb1)), emb1, width=0.25, alpha=0.8, label='Item 1')\n",
    "    plt.bar(np.arange(len(emb2)) + 0.25, emb2, width=0.25, alpha=0.8, label='Item 2')\n",
    "    plt.axhline(0, color='black', linewidth=0.8)\n",
    "    plt.xticks([])\n",
    "    plt. legend()\n",
    "    plt.show()\n",
    "plot_embeddings(item1_embedding, item2_embedding)"
   ]
  },
  {
   "cell_type": "code",
   "execution_count": 22,
   "metadata": {},
   "outputs": [],
   "source": [
    "embedding1 = np.array([\n",
    "    [1, 2, 3, 4], \n",
    "    [2, 3, 4, 5],\n",
    "    [3, 4, 5, 6]\n",
    "])\n",
    "\n",
    "embedding2 = np.array([\n",
    "    [-1, 2, 3, 4], \n",
    "    [2, 3, 4, 5],\n",
    "])\n",
    "\n",
    "prod = np.matmul(embedding1, embedding2.T)\n",
    "\n",
    "def softmax(x):\n",
    "    return np.exp(x)/np.sum(np.exp(x), axis = 0, keepdims=True)\n",
    "\n",
    "prod1 = softmax(prod)"
   ]
  },
  {
   "cell_type": "code",
   "execution_count": 23,
   "metadata": {},
   "outputs": [
    {
     "data": {
      "text/plain": [
       "array([[1.12497423e-07, 6.91439436e-13],\n",
       "       [3.35350093e-04, 8.31528028e-07],\n",
       "       [9.99664537e-01, 9.99999168e-01]])"
      ]
     },
     "execution_count": 23,
     "metadata": {},
     "output_type": "execute_result"
    }
   ],
   "source": [
    "prod1"
   ]
  },
  {
   "cell_type": "code",
   "execution_count": 26,
   "metadata": {},
   "outputs": [
    {
     "name": "stdout",
     "output_type": "stream",
     "text": [
      "[[0.2312239 ]\n",
      " [0.14024438]\n",
      " [0.62853172]]\n"
     ]
    }
   ],
   "source": [
    "prod = np.array([[1],\n",
    "                [0.5],\n",
    "                [2]])\n",
    "print(softmax(prod))"
   ]
  },
  {
   "cell_type": "code",
   "execution_count": 12,
   "metadata": {},
   "outputs": [
    {
     "ename": "TypeError",
     "evalue": "object of type 'Softmax' has no len()",
     "output_type": "error",
     "traceback": [
      "\u001b[0;31m---------------------------------------------------------------------------\u001b[0m",
      "\u001b[0;31mTypeError\u001b[0m                                 Traceback (most recent call last)",
      "Cell \u001b[0;32mIn[12], line 3\u001b[0m\n\u001b[1;32m      1\u001b[0m \u001b[38;5;66;03m#mult = item1_embedding * item2_embedding\u001b[39;00m\n\u001b[1;32m      2\u001b[0m plt\u001b[38;5;241m.\u001b[39mfigure(figsize\u001b[38;5;241m=\u001b[39m(\u001b[38;5;241m5\u001b[39m, \u001b[38;5;241m5\u001b[39m))\n\u001b[0;32m----> 3\u001b[0m plt\u001b[38;5;241m.\u001b[39mbar(np\u001b[38;5;241m.\u001b[39marange(\u001b[38;5;28;43mlen\u001b[39;49m\u001b[43m(\u001b[49m\u001b[43mprod\u001b[49m\u001b[43m)\u001b[49m), mult, width\u001b[38;5;241m=\u001b[39m\u001b[38;5;241m0.25\u001b[39m, alpha\u001b[38;5;241m=\u001b[39m\u001b[38;5;241m0.8\u001b[39m, label\u001b[38;5;241m=\u001b[39m\u001b[38;5;124m'\u001b[39m\u001b[38;5;124mItem 1\u001b[39m\u001b[38;5;124m'\u001b[39m)\n\u001b[1;32m      4\u001b[0m plt\u001b[38;5;241m.\u001b[39maxhline(\u001b[38;5;241m0\u001b[39m, color\u001b[38;5;241m=\u001b[39m\u001b[38;5;124m'\u001b[39m\u001b[38;5;124mblack\u001b[39m\u001b[38;5;124m'\u001b[39m, linewidth\u001b[38;5;241m=\u001b[39m\u001b[38;5;241m0.8\u001b[39m)\n\u001b[1;32m      5\u001b[0m plt\u001b[38;5;241m.\u001b[39mshow()\n",
      "\u001b[0;31mTypeError\u001b[0m: object of type 'Softmax' has no len()"
     ]
    },
    {
     "data": {
      "text/plain": [
       "<Figure size 500x500 with 0 Axes>"
      ]
     },
     "metadata": {},
     "output_type": "display_data"
    }
   ],
   "source": [
    "mult = item1_embedding * item2_embedding\n",
    "plt.figure(figsize=(5, 5))\n",
    "plt.bar(np.arange(len(prod)), mult, width=0.25, alpha=0.8, label='Item 1')\n",
    "plt.axhline(0, color='black', linewidth=0.8)\n",
    "plt.show()"
   ]
  },
  {
   "cell_type": "code",
   "execution_count": 5,
   "metadata": {},
   "outputs": [],
   "source": [
    "class Linear_mod (nn.Module):\n",
    "    def __init__(self):\n",
    "        super(Linear_mod, self).__init__()\n",
    "        self.linear_layers = nn.Sequential(\n",
    "            nn.Linear(in_features=4, out_features=2),\n",
    "            nn.Linear(in_features=2, out_features=4)\n",
    "        )\n",
    "    def forward(self, x):\n",
    "        x = self.linear_layers(x)\n",
    "        return x"
   ]
  },
  {
   "cell_type": "code",
   "execution_count": 6,
   "metadata": {},
   "outputs": [
    {
     "name": "stdout",
     "output_type": "stream",
     "text": [
      "{'jumps': 0, 'the': 1, 'quick': 2, 'brown': 3, 'fox': 4}\n",
      "tensor([[ 5.5293e-01,  8.2214e-01,  6.0405e-04,  2.0501e+00, -6.5155e-01,\n",
      "         -6.0880e-03],\n",
      "        [-5.0345e-01, -3.8833e-01, -7.8911e-01,  1.0884e+00, -4.6244e-01,\n",
      "         -2.9357e-01],\n",
      "        [-1.9748e+00,  2.2314e-01,  4.4129e-01, -1.5996e+00, -7.3764e-01,\n",
      "         -8.4445e-01],\n",
      "        [-1.5607e+00, -1.3598e+00, -8.9191e-01,  3.0161e-01,  1.4953e-01,\n",
      "         -3.0904e-01],\n",
      "        [ 4.4853e-01,  3.3831e-01,  6.3405e-02, -5.5610e-01, -7.2167e-01,\n",
      "         -2.4780e-01]], grad_fn=<EmbeddingBackward0>)\n"
     ]
    }
   ],
   "source": [
    "sentence = \"The quick brown fox jumps\"\n",
    "words = sentence.lower().split()  # ['the', 'quick', 'brown', 'fox', 'jumps']\n",
    "\n",
    "# Create a vocabulary mapping\n",
    "vocab = {word: idx for idx, word in enumerate(set(words))}\n",
    "print(vocab)  # Example: {'the': 0, 'quick': 1, 'brown': 2, 'fox': 3, 'jumps': 4}\n",
    "\n",
    "import torch\n",
    "import torch.nn as nn\n",
    "\n",
    "# Parameters\n",
    "vocab_size = len(vocab)  # 5 unique words\n",
    "embedding_dim = 6  # Small dimension for illustration\n",
    "\n",
    "# Embedding layer\n",
    "embedding_layer = nn.Embedding(num_embeddings=vocab_size, embedding_dim=embedding_dim)\n",
    "\n",
    "# Convert words to indices\n",
    "indices = [vocab[word] for word in words]  # Example: [0, 1, 2, 3, 4]\n",
    "input_tensor = torch.LongTensor(indices)  # Shape: [5]\n",
    "\n",
    "# Generate embeddings\n",
    "embeddings = embedding_layer(input_tensor)  # Shape: [5, 6]\n",
    "print(embeddings)"
   ]
  }
 ],
 "metadata": {
  "kernelspec": {
   "display_name": "Python 3",
   "language": "python",
   "name": "python3"
  },
  "language_info": {
   "codemirror_mode": {
    "name": "ipython",
    "version": 3
   },
   "file_extension": ".py",
   "mimetype": "text/x-python",
   "name": "python",
   "nbconvert_exporter": "python",
   "pygments_lexer": "ipython3",
   "version": "3.10.12"
  }
 },
 "nbformat": 4,
 "nbformat_minor": 2
}
